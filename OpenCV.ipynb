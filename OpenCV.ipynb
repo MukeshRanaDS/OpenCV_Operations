{
 "cells": [
  {
   "cell_type": "markdown",
   "id": "6646e811",
   "metadata": {},
   "source": [
    "https://www.youtube.com/playlist?list=PLaHodugB5x-Ddy_H951h0VHjOjfzZNCBh"
   ]
  },
  {
   "cell_type": "code",
   "execution_count": 1,
   "id": "0158e556",
   "metadata": {},
   "outputs": [],
   "source": [
    "import cv2"
   ]
  },
  {
   "cell_type": "markdown",
   "id": "17362f78",
   "metadata": {},
   "source": [
    "# Image Read Write \n",
    "https://www.youtube.com/watch?v=PgUX8pCWo2w&list=PLaHodugB5x-Ddy_H951h0VHjOjfzZNCBh&index=4"
   ]
  },
  {
   "cell_type": "code",
   "execution_count": 2,
   "id": "ebffd94b",
   "metadata": {},
   "outputs": [
    {
     "data": {
      "text/plain": [
       "array([[172, 192, 193],\n",
       "       [170, 190, 191],\n",
       "       [175, 195, 196],\n",
       "       ...,\n",
       "       [195, 214, 217],\n",
       "       [195, 214, 217],\n",
       "       [195, 214, 217]], dtype=uint8)"
      ]
     },
     "execution_count": 2,
     "metadata": {},
     "output_type": "execute_result"
    }
   ],
   "source": [
    "# Creating Image object second parameter -> 1:color image, 0:Gray image, -1:Extra Contrast Image, Default:1\n",
    "img = cv2.imread(r\"C:\\Users\\emage\\OneDrive\\Muqesh.py\\Tensorflow (Kaggle)\\OpenCV\\Captures\\18449692_791634214328659_1281466853071335212_o.jpg\", 1)\n",
    "img[0]"
   ]
  },
  {
   "cell_type": "code",
   "execution_count": 3,
   "id": "ce0a2d3e",
   "metadata": {},
   "outputs": [],
   "source": [
    "# Resizing the image window\n",
    "img = cv2.resize(img, (600, 450))\n",
    "\n",
    "# Flipping the Image Second Parameter (0:Upside Down, -1:Mirror Image, 1:Actuatl Image)\n",
    "img = cv2.flip(img, 1)\n",
    "\n",
    "# Pringting the image\n",
    "cv2.imshow(\"Muqesh and Friends\", img)\n",
    "\n",
    "# Waiting the display for 3sec = 3000mSec\n",
    "cv2.waitKey(3000)\n",
    "\n",
    "# Clearing the memories created to show the image\n",
    "cv2.destroyAllWindows()"
   ]
  },
  {
   "cell_type": "code",
   "execution_count": 6,
   "id": "76241a2c",
   "metadata": {},
   "outputs": [],
   "source": [
    "# Saving the Image file\n",
    "\n",
    "# Pringting the image\n",
    "cv2.imshow(\"Muqesh and Friends\", img)\n",
    "\n",
    "# Creating imgae object\n",
    "k = cv2.waitKey(3000) # 0:Static Image\n",
    "if k==ord('s'):   # IF keyboard press \"s\" save the image\n",
    "    cv2.imwrite(r\"C:\\Users\\emage\\OneDrive\\Muqesh.py\\Tensorflow (Kaggle)\\OpenCV\\Captures\\Friends.jpg\", img)\n",
    "else :\n",
    "    cv2.destroyAllWindows()"
   ]
  },
  {
   "cell_type": "markdown",
   "id": "82ca1bf9",
   "metadata": {},
   "source": [
    "# Video Operation\n",
    "https://www.youtube.com/watch?v=PNKNpmYoQ9M&list=PLaHodugB5x-Ddy_H951h0VHjOjfzZNCBh&index=6"
   ]
  },
  {
   "cell_type": "code",
   "execution_count": 8,
   "id": "9151685c",
   "metadata": {},
   "outputs": [],
   "source": [
    "import cv2"
   ]
  },
  {
   "cell_type": "code",
   "execution_count": 12,
   "id": "e8b1f8c9",
   "metadata": {},
   "outputs": [
    {
     "name": "stdout",
     "output_type": "stream",
     "text": [
      "Video < cv2.VideoCapture 0000025FC3EABF50>\n"
     ]
    }
   ],
   "source": [
    "# Creating Captured Video object\n",
    "cap = cv2.VideoCapture(r\"C:\\Users\\emage\\OneDrive\\Muqesh.py\\Tensorflow (Kaggle)\\OpenCV\\Captures\\hrBe4Yyd34.mp4\")\n",
    "\n",
    "print(\"Video\", cap)"
   ]
  },
  {
   "cell_type": "code",
   "execution_count": 10,
   "id": "d714a538",
   "metadata": {
    "scrolled": true
   },
   "outputs": [],
   "source": [
    "# Creating Captured Video object\n",
    "cap = cv2.VideoCapture(r\"C:\\Users\\emage\\OneDrive\\Muqesh.py\\Tensorflow (Kaggle)\\OpenCV\\Captures\\hrBe4Yyd34.mp4\")\n",
    "\n",
    "while True :\n",
    "    ret, frame = cap.read()\n",
    "    frame = cv2.resize(frame, (700, 500))\n",
    "    cv2.imshow('Frame', frame)\n",
    "    k = cv2.waitKey(25)\n",
    "    if k == ord('q') & 0xFF: # If keyboard press \"q\" then break the loop(close the video)\n",
    "        break\n",
    "    \n",
    "cap.release()\n",
    "cv2.destroyAllWindows()"
   ]
  },
  {
   "cell_type": "markdown",
   "id": "6e445cb9",
   "metadata": {},
   "source": [
    "#####  Gray Vidoe"
   ]
  },
  {
   "cell_type": "code",
   "execution_count": 15,
   "id": "b2b5222f",
   "metadata": {},
   "outputs": [],
   "source": [
    "# Creating Captured Video object\n",
    "cap = cv2.VideoCapture(r\"C:\\Users\\emage\\OneDrive\\Muqesh.py\\Tensorflow (Kaggle)\\OpenCV\\Captures\\hrBe4Yyd34.mp4\")\n",
    "\n",
    "while True :\n",
    "    ret, frame = cap.read()\n",
    "    frame = cv2.resize(frame, (700, 500))\n",
    "    gray = cv2.cvtColor(frame, cv2.COLOR_BGR2GRAY)\n",
    "    cv2.imshow('Gray', gray)\n",
    "    k = cv2.waitKey(25) #(0:Fast, >0:Faster)\n",
    "    if k == ord('q') & 0xFF: # If keyboard press \"q\" then break the loop(close the video)\n",
    "        break\n",
    "    \n",
    "cap.release()\n",
    "cv2.destroyAllWindows()"
   ]
  },
  {
   "cell_type": "markdown",
   "id": "59c5d9f4",
   "metadata": {},
   "source": [
    "# Webcam Reading"
   ]
  },
  {
   "cell_type": "code",
   "execution_count": 25,
   "id": "3fc47a68",
   "metadata": {},
   "outputs": [],
   "source": [
    "# Creating Video object\n",
    "cap = cv2.VideoCapture(0)\n",
    "\n",
    "# Saving the Video\n",
    "# Saving format DIVX, XVID, MJPG, X264, WMV2\n",
    "fourcc = cv2.VideoWriter_fourcc(*\"XVID\")\n",
    "output = cv2.VideoWriter(r\"C:\\Users\\emage\\OneDrive\\Muqesh.py\\Tensorflow (Kaggle)\\OpenCV\\Captures\\MyCaptured.avi\", fourcc, 20.0, (640,480))\n",
    "# (Name, Codec, FPS, Resolution, 0:for Gray)\n",
    "\n",
    "while cap.isOpened():\n",
    "    ret, frame = cap.read()\n",
    "    if ret==True:\n",
    "        cv2.imshow(\"WebCam\", frame)\n",
    "        output.write(frame)\n",
    "        if cv2.waitKey(1) & 0xFF == ord('q'):\n",
    "            break\n",
    "            \n",
    "cap.release()\n",
    "output.release()\n",
    "cv2.destroyAllWindows()"
   ]
  },
  {
   "cell_type": "markdown",
   "id": "c5383466",
   "metadata": {},
   "source": [
    "# Connect Mobile for Video Recording"
   ]
  },
  {
   "cell_type": "code",
   "execution_count": 13,
   "id": "12778cf9",
   "metadata": {},
   "outputs": [
    {
     "name": "stdout",
     "output_type": "stream",
     "text": [
      "Check == True\n"
     ]
    }
   ],
   "source": [
    "import cv2\n",
    "\n",
    "camera = 'http://192.168.0.100:8080/video'\n",
    "\n",
    "cap = cv2.VideoCapture(0)\n",
    "cap.open(camera)\n",
    "print(\"Check ==\", cap.isOpened())\n",
    "\n",
    "fourcc = cv2.VideoWriter_fourcc(*\"XVID\")\n",
    "output = cv2.VideoWriter(r\"C:\\Users\\emage\\OneDrive\\Muqesh.py\\Tensorflow (Kaggle)\\OpenCV\\Captures\\MyCaptured.avi\", fourcc, 20.0, (640,480))\n",
    "# (Name, Codec, FPS, Resolution, 0:for Gray)\n",
    "\n",
    "while cap.isOpened():\n",
    "    ret, frame = cap.read()\n",
    "    if ret==True:\n",
    "        cv2.imshow(\"WebCam\", frame)\n",
    "        output.write(frame)\n",
    "        if cv2.waitKey(1) & 0xFF == ord('q'):\n",
    "            break\n",
    "            \n",
    "cap.release()\n",
    "output.release()\n",
    "cv2.destroyAllWindows()"
   ]
  },
  {
   "cell_type": "code",
   "execution_count": null,
   "id": "74422d96",
   "metadata": {},
   "outputs": [],
   "source": []
  }
 ],
 "metadata": {
  "kernelspec": {
   "display_name": "Python 3 (ipykernel)",
   "language": "python",
   "name": "python3"
  },
  "language_info": {
   "codemirror_mode": {
    "name": "ipython",
    "version": 3
   },
   "file_extension": ".py",
   "mimetype": "text/x-python",
   "name": "python",
   "nbconvert_exporter": "python",
   "pygments_lexer": "ipython3",
   "version": "3.9.12"
  }
 },
 "nbformat": 4,
 "nbformat_minor": 5
}
